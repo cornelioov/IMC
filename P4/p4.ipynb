{
 "cells": [
  {
   "cell_type": "markdown",
   "metadata": {},
   "source": [
    "# Práctica 4"
   ]
  },
  {
   "cell_type": "markdown",
   "metadata": {},
   "source": [
    "#### Pregunta 1:  Abre este script y explica su contenido. Podras ver que se utiliza el primer dataset de ejemplo y se realiza la representacion gráfica del SVM. Comenta qué tipo de kernel se esta utilizando y cuáles son los parámetros de entrenamiento."
   ]
  },
  {
   "cell_type": "markdown",
   "metadata": {},
   "source": []
  }
 ],
 "metadata": {
  "language_info": {
   "name": "python"
  }
 },
 "nbformat": 4,
 "nbformat_minor": 2
}
