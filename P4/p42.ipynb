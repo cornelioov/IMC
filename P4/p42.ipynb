{
 "cells": [
  {
   "cell_type": "code",
   "execution_count": null,
   "metadata": {},
   "outputs": [],
   "source": [
    "import numpy as np\n",
    "import matplotlib.pyplot as plt\n",
    "import pandas as pd\n",
    "\n",
    "from sklearn import svm\n",
    "\n",
    "from sklearn import preprocessing\n",
    "from sklearn.model_selection import train_test_split\n",
    "from sklearn.model_selection import GridSearchCV\n",
    "from sklearn.model_selection import StratifiedKFold"
   ]
  },
  {
   "cell_type": "markdown",
   "metadata": {},
   "source": [
    "### Clasificación de Spam"
   ]
  },
  {
   "cell_type": "markdown",
   "metadata": {},
   "source": [
    "#### [Pregunta 14] Debes entrenar un modelo lineal de SVM con valores C = 10^−2, C = 10^−1, C = 10^0 y C = 10^1. Para ello utiliza un script similar al que usaste para la pregunta 9. Compara los resultados y establece la mejor configuracion."
   ]
  },
  {
   "cell_type": "code",
   "execution_count": null,
   "metadata": {},
   "outputs": [],
   "source": [
    "def ej14(c_value):\n",
    "  scaler = preprocessing.StandardScaler()\n",
    "  # Load the dataset\n",
    "  data_train = pd.read_csv('train_spam.csv',header=None)\n",
    "  data_test = pd.read_csv('test_spam.csv',header=None)\n",
    "  x_train = data_train.iloc[:,:-1].values\n",
    "  y_train = data_train.iloc[:,-1].values\n",
    "  x_test = data_test.iloc[:,:-1].values\n",
    "  y_test = data_test.iloc[:,-1].values\n",
    "  Cs = np.logspace(-2, 4, num=7, base=10)\n",
    "  Gs = np.logspace(-2, 2, num=5, base=2)\n",
    "  # Realizamos la predicción de test, aplicando los parámetros C y gamma obtenidos anteriormente\n",
    "  svm_model = svm.SVC(kernel='linear',C=c_value)\n",
    "  svm_model.fit(x_train, y_train)\n",
    "  paramOpt = GridSearchCV(estimator=svm_model, param_grid=dict(C=Cs,gamma=Gs), n_jobs=-1, cv=5)\n",
    "  paramOpt.fit(x_train, y_train)\n",
    "  print(paramOpt.score(x_test, y_test))"
   ]
  },
  {
   "cell_type": "code",
   "execution_count": null,
   "metadata": {},
   "outputs": [],
   "source": [
    "c = [0.01, 0.1, 1, 10]\n",
    "\n",
    "for i in c:\n",
    "    ej14(i)"
   ]
  },
  {
   "cell_type": "markdown",
   "metadata": {},
   "source": [
    "#### [Pregunta 15] Para la mejor configuracion, construye la matriz de confusion y establece cuales son los correos en los que la SVM se equivoca. Consulta las variables de entrada para los correos que no se clasifican correctamente y razona el motivo. Ten en cuenta que para cada patron, cuando Xi es igual a 1 quiere decir que la palabra i-esima del vocabulario aparece, al menos una vez, en el correo."
   ]
  },
  {
   "cell_type": "code",
   "execution_count": null,
   "metadata": {},
   "outputs": [],
   "source": [
    "from sklearn.metrics import confusion_matrix"
   ]
  },
  {
   "cell_type": "code",
   "execution_count": null,
   "metadata": {},
   "outputs": [],
   "source": [
    "# Realiza la predicción en el conjunto de test\n",
    "y_pred = svm_model.predict(X_test)\n",
    "\n",
    "# Calcula la matriz de confusión\n",
    "cm = confusion_matrix(y_test, y_pred)\n",
    "\n",
    "# Imprime la matriz de confusión\n",
    "print(cm)"
   ]
  },
  {
   "cell_type": "markdown",
   "metadata": {},
   "source": [
    "#### [Pregunta 16] Entrena una SVM no lineal y compara los resultados."
   ]
  },
  {
   "cell_type": "code",
   "execution_count": null,
   "metadata": {},
   "outputs": [],
   "source": [
    "def ej16():\n",
    "  scaler = preprocessing.StandardScaler()\n",
    "  # Load the dataset\n",
    "  data_train = pd.read_csv('train_spam.csv',header=None)\n",
    "  data_test = pd.read_csv('test_spam.csv',header=None)\n",
    "  x_train = data_train.iloc[:,:-1].values\n",
    "  y_train = data_train.iloc[:,-1].values\n",
    "  x_test = data_test.iloc[:,:-1].values\n",
    "  y_test = data_test.iloc[:,-1].values\n",
    "  Cs = np.logspace(-2, 4, num=7, base=10)\n",
    "  Gs = np.logspace(-2, 2, num=5, base=2)\n",
    "  # Entrenamiento estratificado con 75% de entrenamiento y 25% de test.\n",
    "  x_train, x_test, y_train, y_test = train_test_split(X_train, y, stratify=y, test_size=0.25)\n",
    "  # Realizamos la predicción de test, aplicando los parámetros C y gamma obtenidos anteriormente\n",
    "  svm_model = svm.SVC(kernel='rbf',C=1, gamma = 1/2)\n",
    "  svm_model.fit(x_train, y_train)\n",
    "  paramOpt = GridSearchCV(estimator=svm_model, param_grid=dict(C=Cs,gamma=Gs), n_jobs=-1, cv=5)\n",
    "  paramOpt.fit(x_train, y_train)\n",
    "  print(paramOpt.score(x_test, y_test))"
   ]
  }
 ],
 "metadata": {
  "kernelspec": {
   "display_name": "Python 3",
   "language": "python",
   "name": "python3"
  },
  "language_info": {
   "name": "python",
   "version": "3.12.6"
  }
 },
 "nbformat": 4,
 "nbformat_minor": 2
}
